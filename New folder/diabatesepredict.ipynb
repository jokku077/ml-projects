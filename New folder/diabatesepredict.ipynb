{
 "cells": [
  {
   "cell_type": "code",
   "execution_count": 1,
   "id": "3cec9007",
   "metadata": {},
   "outputs": [
    {
     "name": "stdout",
     "output_type": "stream",
     "text": [
      "no of pregnancies:2\n",
      "glucose level:34\n",
      "blood pressure:132\n",
      "skin Thickness:23\n",
      "Insulin:12\n",
      "BMI:26\n",
      "Diabatees pedigree function:0.17\n",
      "age:45\n",
      "Patient is not diabetic\n"
     ]
    }
   ],
   "source": [
    "import pandas as pd\n",
    "from sklearn.tree import DecisionTreeClassifier\n",
    "from sklearn.model_selection import train_test_split\n",
    "from sklearn.metrics import accuracy_score\n",
    "\n",
    "dia_data=pd.read_csv(r\"C:\\Users\\jokku\\Downloads\\diabetes.csv\")\n",
    "model=DecisionTreeClassifier()\n",
    "x_ip=dia_data.drop(columns=['Outcome'])\n",
    "y_ip=dia_data['Outcome']\n",
    "\"\"\"\n",
    "x_train, x_test, y_train, y_test = train_test_split(x_ip, y_ip, test_size=0.2)\n",
    "\n",
    "model.fit(x_train,y_train)\n",
    "\n",
    "predictions=model.predict(x_test)\n",
    "\n",
    "score=accuracy_score(y_test,predictions)\n",
    "score\n",
    "\"\"\"\n",
    "model.fit(x_ip.values,y_ip.values)  # .values was used with x_ip and y_ip to prevent the error:\n",
    "#UserWarning: X does not have valid feature names, but IsolationForest was fitted with feature name\n",
    "\n",
    "prg=float(input(\"no of pregnancies:\"))\n",
    "glc=float(input(\"glucose level:\"))\n",
    "bp=float(input(\"blood pressure:\"))\n",
    "st=float(input(\"skin Thickness:\"))\n",
    "ins=float(input(\"Insulin:\"))\n",
    "bmi=float(input(\"BMI:\"))\n",
    "dpf=float(input(\"Diabatees pedigree function:\"))\n",
    "age=float(input(\"age:\"))\n",
    "prediction=model.predict([[prg,glc,bp,st,ins,bmi,dpf,age]])\n",
    "if prediction[0]==1:\n",
    "    print(\"Patient is diabetic\")\n",
    "else:\n",
    "    print(\"Patient is not diabetic\")"
   ]
  },
  {
   "cell_type": "code",
   "execution_count": null,
   "id": "f25c3bed",
   "metadata": {},
   "outputs": [],
   "source": []
  }
 ],
 "metadata": {
  "kernelspec": {
   "display_name": "Python 3 (ipykernel)",
   "language": "python",
   "name": "python3"
  },
  "language_info": {
   "codemirror_mode": {
    "name": "ipython",
    "version": 3
   },
   "file_extension": ".py",
   "mimetype": "text/x-python",
   "name": "python",
   "nbconvert_exporter": "python",
   "pygments_lexer": "ipython3",
   "version": "3.11.4"
  },
  "varInspector": {
   "cols": {
    "lenName": 16,
    "lenType": 16,
    "lenVar": 40
   },
   "kernels_config": {
    "python": {
     "delete_cmd_postfix": "",
     "delete_cmd_prefix": "del ",
     "library": "var_list.py",
     "varRefreshCmd": "print(var_dic_list())"
    },
    "r": {
     "delete_cmd_postfix": ") ",
     "delete_cmd_prefix": "rm(",
     "library": "var_list.r",
     "varRefreshCmd": "cat(var_dic_list()) "
    }
   },
   "types_to_exclude": [
    "module",
    "function",
    "builtin_function_or_method",
    "instance",
    "_Feature"
   ],
   "window_display": false
  }
 },
 "nbformat": 4,
 "nbformat_minor": 5
}
